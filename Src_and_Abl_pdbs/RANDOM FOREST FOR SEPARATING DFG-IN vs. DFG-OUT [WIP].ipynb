{
 "cells": [
  {
   "cell_type": "markdown",
   "metadata": {
    "collapsed": true
   },
   "source": [
    "# Using SciKit Learn's Random Forest Classifier to find out which features we can use to separate DFG-in vs. DFG-out from manualy classified Src and Abl PDB structures"
   ]
  },
  {
   "cell_type": "code",
   "execution_count": 1,
   "metadata": {
    "collapsed": true
   },
   "outputs": [],
   "source": [
    "#Special thanks to Josh Fass for his advice on this \n",
    "#(originally code for something similar was written by him using the Decision Tree Function)"
   ]
  },
  {
   "cell_type": "code",
   "execution_count": 2,
   "metadata": {
    "collapsed": false
   },
   "outputs": [
    {
     "name": "stdout",
     "output_type": "stream",
     "text": [
      "Populating the interactive namespace from numpy and matplotlib\n"
     ]
    }
   ],
   "source": [
    "import mdtraj as md\n",
    "import matplotlib.pyplot as plt\n",
    "import numpy as np\n",
    "from glob import glob\n",
    "\n",
    "import re\n",
    "from sklearn import preprocessing\n",
    "from sklearn.tree import DecisionTreeClassifier\n",
    "\n",
    "%pylab inline"
   ]
  },
  {
   "cell_type": "code",
   "execution_count": 3,
   "metadata": {
    "collapsed": true
   },
   "outputs": [],
   "source": [
    "#We are going to be using pyemma's featurizers for this since they also include the indices to pull out afterward\n",
    "import pyemma.coordinates"
   ]
  },
  {
   "cell_type": "code",
   "execution_count": 4,
   "metadata": {
    "collapsed": false
   },
   "outputs": [
    {
     "name": "stdout",
     "output_type": "stream",
     "text": [
      "(76, 'Abl_DFG_in/ABL1_HUMAN_D0_2F4J_A.pdb')\n"
     ]
    }
   ],
   "source": [
    "#We'll start with our ABL structures\n",
    "# get filenames of the trajectories\n",
    "files = glob('Abl*/*.pdb')\n",
    "print(len(files),files[0])"
   ]
  },
  {
   "cell_type": "code",
   "execution_count": 5,
   "metadata": {
    "collapsed": true
   },
   "outputs": [],
   "source": [
    "traj = md.load(files[0])\n",
    "top = traj.top"
   ]
  },
  {
   "cell_type": "code",
   "execution_count": 6,
   "metadata": {
    "collapsed": false
   },
   "outputs": [
    {
     "data": {
      "text/plain": [
       "2043"
      ]
     },
     "execution_count": 6,
     "metadata": {},
     "output_type": "execute_result"
    }
   ],
   "source": [
    "top.n_atoms"
   ]
  },
  {
   "cell_type": "code",
   "execution_count": 7,
   "metadata": {
    "collapsed": false
   },
   "outputs": [],
   "source": [
    "feat = pyemma.coordinates.featurizer(files[0])"
   ]
  },
  {
   "cell_type": "code",
   "execution_count": null,
   "metadata": {
    "collapsed": false
   },
   "outputs": [],
   "source": []
  },
  {
   "cell_type": "code",
   "execution_count": 8,
   "metadata": {
    "collapsed": false
   },
   "outputs": [],
   "source": [
    "def FeaturizeAndClassify(files):\n",
    "    Xs = []\n",
    "    ys = []\n",
    "\n",
    "    feat = pyemma.coordinates.featurizer(files[0])\n",
    "    feat.add_chi1_torsions(cossin=True)\n",
    "    feat.add_backbone_torsions(cossin=True)\n",
    "    print feat.dimension()\n",
    "    \n",
    "    for filename in files:\n",
    "        state_string = re.findall('DFG_[\\w]*',filename)\n",
    "\n",
    "        try:\n",
    "            traj = md.load(filename)\n",
    "            x = feat.transform(traj)\n",
    "            Xs.append(x) #needed to use list(x) at one point to convert to numpy array later\n",
    "            ys.append(state_string)\n",
    "        except:\n",
    "            pass\n",
    "        \n",
    "    print 'These should be the same: %s,%s'%(len(Xs),len(files))\n",
    "        \n",
    "    X = np.vstack(Xs)\n",
    "    y = np.hstack(ys)\n",
    "    \n",
    "    print 'These should have the same first dimension: %s,%s,%s'%(X.shape,y.shape,len(set(y)))\n",
    "    \n",
    "    #Before we can use decision tree we need to transform our categorical \n",
    "    # parameters ('DFG_in' and 'DFG_out') to numerical parameters\n",
    "    \n",
    "    le = preprocessing.LabelEncoder()\n",
    "    le.fit(['DFG_in','DFG_out'])\n",
    "    print 'These are our classes: %s' %list(le.classes_)\n",
    "    y = le.transform(y)\n",
    "    # le.inverse_transform(y) can be used to get back your original labels\n",
    "    \n",
    "    return [X,y,le,feat]"
   ]
  },
  {
   "cell_type": "code",
   "execution_count": 9,
   "metadata": {
    "collapsed": false
   },
   "outputs": [
    {
     "name": "stdout",
     "output_type": "stream",
     "text": [
      "1440\n",
      "These should be the same: 76,76\n",
      "These should have the same first dimension: (76, 1440),(76,),2\n",
      "These are our classes: ['DFG_in', 'DFG_out']\n"
     ]
    }
   ],
   "source": [
    "[X,y,le,feat] = FeaturizeAndClassify(files)"
   ]
  },
  {
   "cell_type": "markdown",
   "metadata": {
    "collapsed": true
   },
   "source": [
    "### No we can build our random forest."
   ]
  },
  {
   "cell_type": "code",
   "execution_count": 10,
   "metadata": {
    "collapsed": false
   },
   "outputs": [
    {
     "data": {
      "text/plain": [
       "DecisionTreeClassifier(class_weight=None, criterion='entropy', max_depth=5,\n",
       "            max_features=None, max_leaf_nodes=None,\n",
       "            min_impurity_split=1e-07, min_samples_leaf=1,\n",
       "            min_samples_split=2, min_weight_fraction_leaf=0.0,\n",
       "            presort=False, random_state=None, splitter='best')"
      ]
     },
     "execution_count": 10,
     "metadata": {},
     "output_type": "execute_result"
    }
   ],
   "source": [
    "dt = DecisionTreeClassifier(criterion='entropy',max_depth=5)\n",
    "dt.fit(X,y)"
   ]
  },
  {
   "cell_type": "code",
   "execution_count": 11,
   "metadata": {
    "collapsed": false
   },
   "outputs": [
    {
     "data": {
      "text/plain": [
       "1.0"
      ]
     },
     "execution_count": 11,
     "metadata": {},
     "output_type": "execute_result"
    }
   ],
   "source": [
    "dt.score(X,y)"
   ]
  },
  {
   "cell_type": "code",
   "execution_count": 12,
   "metadata": {
    "collapsed": false
   },
   "outputs": [
    {
     "data": {
      "text/plain": [
       "array([ 0.,  0.,  0., ...,  0.,  0.,  0.])"
      ]
     },
     "execution_count": 12,
     "metadata": {},
     "output_type": "execute_result"
    }
   ],
   "source": [
    "dt.feature_importances_"
   ]
  },
  {
   "cell_type": "code",
   "execution_count": 13,
   "metadata": {
    "collapsed": false
   },
   "outputs": [
    {
     "data": {
      "text/plain": [
       "<matplotlib.text.Text at 0x10c99a050>"
      ]
     },
     "execution_count": 13,
     "metadata": {},
     "output_type": "execute_result"
    },
    {
     "data": {
      "image/png": "[encoded data removed]",
      "text/plain": [
       "<matplotlib.figure.Figure at 0x10b7a8c90>"
      ]
     },
     "metadata": {},
     "output_type": "display_data"
    }
   ],
   "source": [
    "# how does the accuracy increase as we include more features\n",
    "plt.plot(np.cumsum(sorted(dt.feature_importances_[dt.feature_importances_!=0])[::-1])*dt.score(X,y), marker = 'o')\n",
    "#plt.hlines(dt.score(X,y),0,sum(dt.feature_importances_!=0),linestyles='--')\n",
    "plt.xlabel('# of dihedrals used')\n",
    "plt.ylabel('Fraction of state identities explained')\n",
    "plt.title('Discriminating Abl PDBs with decision trees')"
   ]
  },
  {
   "cell_type": "markdown",
   "metadata": {},
   "source": [
    "How do we find out what this dihedral is with this pyemma object?"
   ]
  },
  {
   "cell_type": "code",
   "execution_count": 14,
   "metadata": {
    "collapsed": false
   },
   "outputs": [],
   "source": [
    "feature_importances = dt.feature_importances_[dt.feature_importances_!=0]\n",
    "sorted_inds = np.array(sorted(np.arange(len(feature_importances)),key=lambda i:-feature_importances[i]))"
   ]
  },
  {
   "cell_type": "code",
   "execution_count": 15,
   "metadata": {
    "collapsed": false
   },
   "outputs": [
    {
     "data": {
      "text/plain": [
       "array([0])"
      ]
     },
     "execution_count": 15,
     "metadata": {},
     "output_type": "execute_result"
    }
   ],
   "source": [
    "sorted_inds"
   ]
  },
  {
   "cell_type": "code",
   "execution_count": null,
   "metadata": {
    "collapsed": false
   },
   "outputs": [],
   "source": []
  },
  {
   "cell_type": "code",
   "execution_count": 16,
   "metadata": {
    "collapsed": false
   },
   "outputs": [],
   "source": [
    "features = feat.describe()"
   ]
  },
  {
   "cell_type": "code",
   "execution_count": 17,
   "metadata": {
    "collapsed": false
   },
   "outputs": [
    {
     "name": "stderr",
     "output_type": "stream",
     "text": [
      "/Users/hansons/anaconda2/lib/python2.7/site-packages/ipykernel/__main__.py:1: VisibleDeprecationWarning: converting an array with ndim > 0 to an index will result in an error in the future\n",
      "  if __name__ == '__main__':\n"
     ]
    },
    {
     "data": {
      "text/plain": [
       "'COS(CHI1 0 ILE 1 )'"
      ]
     },
     "execution_count": 17,
     "metadata": {},
     "output_type": "execute_result"
    }
   ],
   "source": [
    "features[sorted_inds]"
   ]
  },
  {
   "cell_type": "code",
   "execution_count": 18,
   "metadata": {
    "collapsed": true
   },
   "outputs": [],
   "source": [
    "# Is this right???  # Does Decision tree just give us the first feature back???"
   ]
  },
  {
   "cell_type": "markdown",
   "metadata": {},
   "source": [
    "## Let's try Random Forest"
   ]
  },
  {
   "cell_type": "code",
   "execution_count": 19,
   "metadata": {
    "collapsed": true
   },
   "outputs": [],
   "source": [
    "from sklearn.ensemble import RandomForestClassifier"
   ]
  },
  {
   "cell_type": "code",
   "execution_count": 20,
   "metadata": {
    "collapsed": true
   },
   "outputs": [],
   "source": [
    "clf = RandomForestClassifier(n_estimators=10,max_depth=None,\n",
    "  min_samples_split=2, random_state=0)\n",
    "clf = clf.fit(X,y)"
   ]
  },
  {
   "cell_type": "code",
   "execution_count": 21,
   "metadata": {
    "collapsed": true
   },
   "outputs": [],
   "source": [
    "from sklearn.model_selection import cross_val_score"
   ]
  },
  {
   "cell_type": "code",
   "execution_count": 22,
   "metadata": {
    "collapsed": false
   },
   "outputs": [],
   "source": [
    "scores = cross_val_score(clf, X, y)"
   ]
  },
  {
   "cell_type": "code",
   "execution_count": 23,
   "metadata": {
    "collapsed": false
   },
   "outputs": [
    {
     "data": {
      "text/plain": [
       "array([ 0.84615385,  0.92      ,  0.96      ])"
      ]
     },
     "execution_count": 23,
     "metadata": {},
     "output_type": "execute_result"
    }
   ],
   "source": [
    "scores"
   ]
  },
  {
   "cell_type": "code",
   "execution_count": 24,
   "metadata": {
    "collapsed": false
   },
   "outputs": [
    {
     "data": {
      "text/plain": [
       "0.90871794871794875"
      ]
     },
     "execution_count": 24,
     "metadata": {},
     "output_type": "execute_result"
    }
   ],
   "source": [
    "scores.mean()"
   ]
  },
  {
   "cell_type": "code",
   "execution_count": 25,
   "metadata": {
    "collapsed": false
   },
   "outputs": [
    {
     "data": {
      "text/plain": [
       "RandomForestClassifier(bootstrap=True, class_weight=None, criterion='gini',\n",
       "            max_depth=None, max_features='auto', max_leaf_nodes=None,\n",
       "            min_impurity_split=1e-07, min_samples_leaf=1,\n",
       "            min_samples_split=2, min_weight_fraction_leaf=0.0,\n",
       "            n_estimators=10, n_jobs=1, oob_score=False, random_state=0,\n",
       "            verbose=0, warm_start=False)"
      ]
     },
     "execution_count": 25,
     "metadata": {},
     "output_type": "execute_result"
    }
   ],
   "source": [
    "clf"
   ]
  },
  {
   "cell_type": "code",
   "execution_count": 26,
   "metadata": {
    "collapsed": false
   },
   "outputs": [
    {
     "data": {
      "text/plain": [
       "1.0"
      ]
     },
     "execution_count": 26,
     "metadata": {},
     "output_type": "execute_result"
    }
   ],
   "source": [
    "clf.score(X,y)"
   ]
  },
  {
   "cell_type": "code",
   "execution_count": 27,
   "metadata": {
    "collapsed": false
   },
   "outputs": [
    {
     "data": {
      "text/plain": [
       "array([ 0.,  0.,  0., ...,  0.,  0.,  0.])"
      ]
     },
     "execution_count": 27,
     "metadata": {},
     "output_type": "execute_result"
    }
   ],
   "source": [
    "clf.feature_importances_"
   ]
  },
  {
   "cell_type": "code",
   "execution_count": 28,
   "metadata": {
    "collapsed": false
   },
   "outputs": [
    {
     "data": {
      "text/plain": [
       "<matplotlib.text.Text at 0x10c3d0fd0>"
      ]
     },
     "execution_count": 28,
     "metadata": {},
     "output_type": "execute_result"
    },
    {
     "data": {
      "image/png": "[encoded data removed]",
      "text/plain": [
       "<matplotlib.figure.Figure at 0x10c3dc7d0>"
      ]
     },
     "metadata": {},
     "output_type": "display_data"
    }
   ],
   "source": [
    "# how does the accuracy increase as we include more features\n",
    "plt.plot(np.cumsum(sorted(clf.feature_importances_[clf.feature_importances_!=0])[::-1])*clf.score(X,y), marker = 'o')\n",
    "#plt.hlines(dt.score(X,y),0,sum(dt.feature_importances_!=0),linestyles='--')\n",
    "plt.xlabel('# of dihedrals used')\n",
    "plt.ylabel('Fraction of state identities explained')\n",
    "plt.title('Discriminating Abl PDBs with decision trees')"
   ]
  },
  {
   "cell_type": "code",
   "execution_count": 29,
   "metadata": {
    "collapsed": false
   },
   "outputs": [
    {
     "data": {
      "text/plain": [
       "array([ 0.03414141,  0.021375  ,  0.04013169,  0.00816523,  0.01138496,\n",
       "        0.02296965,  0.0285    ,  0.01993443,  0.00631579,  0.03816149,\n",
       "        0.05637302,  0.02868202,  0.04226447,  0.02977851,  0.0178125 ,\n",
       "        0.02084058,  0.02843167,  0.011875  ,  0.01262878,  0.01298137,\n",
       "        0.01091618,  0.00415641,  0.0199446 ,  0.04003756,  0.04725185,\n",
       "        0.05148214,  0.02982732,  0.03912185,  0.03214286,  0.01526786,\n",
       "        0.03544899,  0.00784229,  0.11932437,  0.00778017,  0.0113659 ,\n",
       "        0.00744196,  0.01552732,  0.01237281])"
      ]
     },
     "execution_count": 29,
     "metadata": {},
     "output_type": "execute_result"
    }
   ],
   "source": [
    "clf.feature_importances_[clf.feature_importances_!=0]"
   ]
  },
  {
   "cell_type": "code",
   "execution_count": 30,
   "metadata": {
    "collapsed": false
   },
   "outputs": [
    {
     "data": {
      "text/plain": [
       "38"
      ]
     },
     "execution_count": 30,
     "metadata": {},
     "output_type": "execute_result"
    }
   ],
   "source": [
    "len (clf.feature_importances_[clf.feature_importances_!=0])"
   ]
  },
  {
   "cell_type": "code",
   "execution_count": 31,
   "metadata": {
    "collapsed": false
   },
   "outputs": [],
   "source": [
    "# get indices\n",
    "non_zero_indices = [i for i,x in enumerate(clf.feature_importances_!=0) if x]"
   ]
  },
  {
   "cell_type": "code",
   "execution_count": 32,
   "metadata": {
    "collapsed": false
   },
   "outputs": [
    {
     "data": {
      "text/plain": [
       "38"
      ]
     },
     "execution_count": 32,
     "metadata": {},
     "output_type": "execute_result"
    }
   ],
   "source": [
    "len(non_zero_indices)"
   ]
  },
  {
   "cell_type": "code",
   "execution_count": 33,
   "metadata": {
    "collapsed": false
   },
   "outputs": [
    {
     "data": {
      "text/plain": [
       "[70,\n",
       " 104,\n",
       " 214,\n",
       " 218,\n",
       " 222,\n",
       " 322,\n",
       " 352,\n",
       " 356,\n",
       " 418,\n",
       " 458,\n",
       " 462,\n",
       " 464,\n",
       " 474,\n",
       " 484,\n",
       " 637,\n",
       " 714,\n",
       " 754,\n",
       " 762,\n",
       " 818,\n",
       " 834,\n",
       " 872,\n",
       " 900,\n",
       " 918,\n",
       " 991,\n",
       " 996,\n",
       " 1000,\n",
       " 1026,\n",
       " 1046,\n",
       " 1048,\n",
       " 1062,\n",
       " 1072,\n",
       " 1081,\n",
       " 1134,\n",
       " 1241,\n",
       " 1253,\n",
       " 1270,\n",
       " 1350,\n",
       " 1365]"
      ]
     },
     "execution_count": 33,
     "metadata": {},
     "output_type": "execute_result"
    }
   ],
   "source": [
    "non_zero_indices"
   ]
  },
  {
   "cell_type": "code",
   "execution_count": 34,
   "metadata": {
    "collapsed": true
   },
   "outputs": [],
   "source": [
    "# Let's get sorted non-zero-indices\n",
    "sorted_importance = sorted(clf.feature_importances_[clf.feature_importances_!=0])"
   ]
  },
  {
   "cell_type": "code",
   "execution_count": 35,
   "metadata": {
    "collapsed": false
   },
   "outputs": [],
   "source": [
    "sorted_non_zero_indices = []\n",
    "for value in sorted_importance:\n",
    "    for i,x in enumerate(clf.feature_importances_):\n",
    "        if x == value:\n",
    "            sorted_non_zero_indices.append(i)\n",
    "        else:\n",
    "            pass"
   ]
  },
  {
   "cell_type": "code",
   "execution_count": 36,
   "metadata": {
    "collapsed": false
   },
   "outputs": [
    {
     "data": {
      "text/plain": [
       "[900,\n",
       " 418,\n",
       " 1270,\n",
       " 1241,\n",
       " 1081,\n",
       " 218,\n",
       " 872,\n",
       " 1253,\n",
       " 222,\n",
       " 762,\n",
       " 1365,\n",
       " 818,\n",
       " 834,\n",
       " 1062,\n",
       " 1350,\n",
       " 637,\n",
       " 356,\n",
       " 918,\n",
       " 714,\n",
       " 104,\n",
       " 322,\n",
       " 754,\n",
       " 352,\n",
       " 464,\n",
       " 484,\n",
       " 1026,\n",
       " 1048,\n",
       " 70,\n",
       " 1072,\n",
       " 458,\n",
       " 1046,\n",
       " 991,\n",
       " 214,\n",
       " 474,\n",
       " 996,\n",
       " 1000,\n",
       " 462,\n",
       " 1134]"
      ]
     },
     "execution_count": 36,
     "metadata": {},
     "output_type": "execute_result"
    }
   ],
   "source": [
    "sorted_non_zero_indices"
   ]
  },
  {
   "cell_type": "code",
   "execution_count": 37,
   "metadata": {
    "collapsed": false
   },
   "outputs": [
    {
     "name": "stdout",
     "output_type": "stream",
     "text": [
      "COS(PHI 0 PHE 118)\n",
      "0.00415641235986\n",
      "COS(CHI1 0 ARG 242 )\n",
      "0.00631578947368\n",
      "COS(PSI 0 GLU 209)\n",
      "0.00744195983478\n",
      "SIN(PHI 0 ASP 203)\n",
      "0.00778017241379\n",
      "SIN(PHI 0 LYS 163)\n",
      "0.00784228747143\n",
      "COS(CHI1 0 LEU 123 )\n",
      "0.00816523108271\n",
      "COS(PHI 0 GLU 111)\n",
      "0.0109161793372\n",
      "SIN(PHI 0 GLN 206)\n",
      "0.0113659022931\n",
      "COS(CHI1 0 ASN 127 )\n",
      "0.0113849555944\n",
      "COS(PSI 0 LEU 82)\n",
      "0.011875\n",
      "SIN(PHI 0 CYS 234)\n",
      "0.0123728123728\n",
      "COS(PSI 0 ALA 96)\n",
      "0.0126287803257\n",
      "COS(PSI 0 LEU 100)\n",
      "0.0129813664596\n",
      "COS(PSI 0 GLY 157)\n",
      "0.0152678571429\n",
      "COS(PSI 0 GLU 229)\n",
      "0.0155273246819\n",
      "SIN(PHI 0 ILE 52)\n",
      "0.0178125\n",
      "COS(CHI1 0 GLU 209 )\n",
      "0.0199344262295\n",
      "COS(PSI 0 ARG 121)\n",
      "0.019944598338\n",
      "COS(PSI 0 PHE 70)\n",
      "0.0208405842957\n",
      "COS(CHI1 0 LEU 61 )\n",
      "0.021375\n",
      "COS(CHI1 0 TRP 189 )\n",
      "0.0229696472518\n",
      "COS(PSI 0 GLY 80)\n",
      "0.0284316692779\n",
      "COS(CHI1 0 VAL 207 )\n",
      "0.0285\n",
      "COS(PHI 0 GLY 9)\n",
      "0.0286820187097\n",
      "COS(PHI 0 GLU 14)\n",
      "0.0297785069729\n",
      "COS(PSI 0 THR 148)\n",
      "0.0298273155416\n",
      "COS(PHI 0 HIS 155)\n",
      "0.0321428571429\n",
      "COS(CHI1 0 PHE 42 )\n",
      "0.0341414141414\n",
      "COS(PHI 0 PRO 161)\n",
      "0.0354489852186\n",
      "COS(PSI 0 LYS 6)\n",
      "0.0381614906832\n",
      "COS(PSI 0 THR 153)\n",
      "0.0391218518572\n",
      "SIN(PSI 0 ALA 139)\n",
      "0.0400375638471\n",
      "COS(CHI1 0 ARG 121 )\n",
      "0.0401316882685\n",
      "COS(PSI 0 GLY 10)\n",
      "0.0422644704433\n",
      "COS(PHI 0 GLY 142)\n",
      "0.0472518457752\n",
      "COS(PHI 0 LEU 143)\n",
      "0.0514821428571\n",
      "COS(PSI 0 LEU 7)\n",
      "0.0563730180059\n",
      "COS(PSI 0 PHE 175)\n",
      "0.119324374298\n"
     ]
    }
   ],
   "source": [
    "for index in sorted_non_zero_indices:\n",
    "    print feat.describe()[index]\n",
    "    print clf.feature_importances_[index]"
   ]
  },
  {
   "cell_type": "code",
   "execution_count": null,
   "metadata": {
    "collapsed": false
   },
   "outputs": [],
   "source": []
  },
  {
   "cell_type": "code",
   "execution_count": null,
   "metadata": {
    "collapsed": false
   },
   "outputs": [],
   "source": []
  },
  {
   "cell_type": "code",
   "execution_count": null,
   "metadata": {
    "collapsed": false
   },
   "outputs": [],
   "source": []
  },
  {
   "cell_type": "code",
   "execution_count": null,
   "metadata": {
    "collapsed": true
   },
   "outputs": [],
   "source": []
  }
 ],
 "metadata": {
  "anaconda-cloud": {},
  "kernelspec": {
   "display_name": "Python 2",
   "language": "python",
   "name": "python2"
  },
  "language_info": {
   "codemirror_mode": {
    "name": "ipython",
    "version": 2
   },
   "file_extension": ".py",
   "mimetype": "text/x-python",
   "name": "python",
   "nbconvert_exporter": "python",
   "pygments_lexer": "ipython2",
   "version": "2.7.13"
  }
 },
 "nbformat": 4,
 "nbformat_minor": 1
}
